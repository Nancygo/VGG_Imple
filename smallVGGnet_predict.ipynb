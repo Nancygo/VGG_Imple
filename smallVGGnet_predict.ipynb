{
 "cells": [
  {
   "cell_type": "code",
   "execution_count": 11,
   "metadata": {},
   "outputs": [
    {
     "data": {
      "text/plain": [
       "-1"
      ]
     },
     "execution_count": 11,
     "metadata": {},
     "output_type": "execute_result"
    }
   ],
   "source": [
    "from keras.models import load_model\n",
    "import argparse\n",
    "import cv2\n",
    "import pickle\n",
    "from imutils import paths\n",
    "import numpy as np\n",
    "import os\n",
    "\n",
    "image_dir = os.path.join((os.getcwd()), \"test\\\\161-11.jpg\")\n",
    "#image_path = (sorted(list(paths.list_images(image_dir))))\n",
    "#image_dir = \"test\\161-11.jpg\"\n",
    "\n",
    "#Test image pre-processing\n",
    "image = cv2.imread(image_dir, cv2.IMREAD_GRAYSCALE)\n",
    "output = image.copy()\n",
    "\n",
    "#Face detection from Image\n",
    "har_path = os.path.join(os.path.dirname(cv2.__file__),\"data\",\"haarcascade_frontalface_default.xml\")\n",
    "face_cascade = cv2.CascadeClassifier(har_path)\n",
    "faces = face_cascade.detectMultiScale(output, 1.3, 5)\n",
    "x1 = faces[0][0]-int(faces[0][2]/2)\n",
    "y1 = faces[0][1]-int(faces[0][3]/2)\n",
    "x2 = faces[0][0]+faces[0][2]+int(faces[0][2]/2)\n",
    "y2 = faces[0][1]+faces[0][3]+int(faces[0][3]/2)\n",
    "cropped = image[y1:y2,x1:x2]\n",
    "\n",
    "image = cv2.resize(cropped, (64,64))\n",
    "image = image.astype(\"float\")/255.0\n",
    "image = image.reshape(1, image.shape[0], image.shape[1])  \n",
    "image = image[:,:,:,np.newaxis]\n",
    "\n",
    "#Passing image to model for prediction\n",
    "model = load_model(os.path.join((os.getcwd()), \"model\\smallvggnet_model\"))\n",
    "lb = pickle.loads(open(os.path.join((os.getcwd()), \"model\\smallvggnet_LabelBinarizer\"), 'rb').read())\n",
    "preds = model.predict(image)\n",
    "i = preds.argmax(axis=1)[0]\n",
    "label = lb.classes_[i]\n",
    "text = \"{}: {:.2f}%\".format(label, preds[0][i]*100)\n",
    "cv2.putText(output, text, (10,30), cv2.FONT_HERSHEY_COMPLEX, 0.7, (0,0,255), 2)\n",
    "\n",
    "#Show output image\n",
    "cv2.imshow(\"image\", output)\n",
    "cv2.waitKey(0)"
   ]
  }
 ],
 "metadata": {
  "kernelspec": {
   "display_name": "Python 3",
   "language": "python",
   "name": "python3"
  },
  "language_info": {
   "codemirror_mode": {
    "name": "ipython",
    "version": 3
   },
   "file_extension": ".py",
   "mimetype": "text/x-python",
   "name": "python",
   "nbconvert_exporter": "python",
   "pygments_lexer": "ipython3",
   "version": "3.7.2"
  }
 },
 "nbformat": 4,
 "nbformat_minor": 2
}
