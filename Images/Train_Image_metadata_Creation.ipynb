{
 "cells": [
  {
   "cell_type": "markdown",
   "metadata": {},
   "source": [
    "Create CSV metadata file for comparison of images of two people with predictor variable to define whether images are of same person or different people."
   ]
  },
  {
   "cell_type": "code",
   "execution_count": 129,
   "metadata": {},
   "outputs": [],
   "source": [
    "import os\n",
    "import random\n",
    "from os import listdir\n",
    "from os.path import isfile, join\n",
    "import random\n",
    "import numpy as np\n",
    "import csv\n",
    "\n",
    "random.seed = 2\n",
    "\n",
    "#Path of train Data\n",
    "path ='Siamese\\\\ATT_Data' \n",
    "\n",
    "#Listing all images in folder\n",
    "file_list = []\n",
    "# r=root, d=directories, f = files\n",
    "for r, d, f in os.walk(path):\n",
    "    for file in f:\n",
    "        if '.pgm' in file:\n",
    "            file_list.append(os.path.join(r, file))\n",
    "\n",
    "#Creating random list of file names _ Variable Initialization\n",
    "rand_items = file_list[:]\n",
    "rand_items = np.asarray(random.sample(rand_items,len(rand_items)))\n",
    "File_name = np.asarray(file_list)\n",
    "image_data = []\n",
    "\n",
    "#Create random image pair samples for training model\n",
    "for i in range(len(File_name)):\n",
    "    match_cnt = 1\n",
    "    unmatch_cnt = 1\n",
    "    for j in range(len(rand_items)):\n",
    "        #Extract directory for image label : print (File_name[i][:(len(File_name[i])-File_name[i][::-1].find('\\\\'))])\n",
    "        if File_name[i][:(len(File_name[i])-File_name[i][::-1].find('\\\\'))] == rand_items[j][:(len(rand_items[j])-rand_items[j][::-1].find('\\\\'))] and match_cnt<6:\n",
    "            match_cnt +=1\n",
    "            image_data.append([File_name[i],rand_items[j],1])\n",
    "            \n",
    "        elif File_name[i][:(len(File_name[i])-File_name[i][::-1].find('\\\\'))] != rand_items[j][:(len(rand_items[j])-rand_items[j][::-1].find('\\\\'))] and unmatch_cnt<6:\n",
    "            unmatch_cnt +=1\n",
    "            image_data.append([File_name[i],rand_items[j],0])\n",
    "            \n",
    "        elif match_cnt >= 6 and unmatch_cnt >= 6:\n",
    "            break\n",
    "        else:\n",
    "            continue\n",
    "\n",
    "#Shuffle list of image metadata\n",
    "image_data = random.sample(image_data,len(image_data))       \n",
    "image_data_ar = np.asarray(image_data)\n",
    "\n",
    "#Create csv file with random image samples\n",
    "with open(\"image_md.csv\",mode = \"w+\", newline= '\\n') as f:\n",
    "    writer = csv.writer(f, delimiter = ',')\n",
    "    writer.writerow(['ImageA','ImageB','Match_Unmatch'])\n",
    "    writer.writerows((image_data))"
   ]
  }
 ],
 "metadata": {
  "kernelspec": {
   "display_name": "Python 3",
   "language": "python",
   "name": "python3"
  }
 },
 "nbformat": 4,
 "nbformat_minor": 2
}
